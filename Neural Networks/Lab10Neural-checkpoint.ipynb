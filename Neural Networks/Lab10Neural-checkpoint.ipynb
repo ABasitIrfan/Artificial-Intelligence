{
 "cells": [
  {
   "cell_type": "code",
   "execution_count": 13,
   "metadata": {},
   "outputs": [
    {
     "name": "stdout",
     "output_type": "stream",
     "text": [
      "(4, 3)\n",
      "Output after training\n",
      "[[0.0318178 ]\n",
      " [0.97412736]\n",
      " [0.97908627]\n",
      " [0.02574952]]\n"
     ]
    }
   ],
   "source": [
    "import numpy as np\n",
    "\n",
    "def nonlin(x, deriv=False):\n",
    "    if(deriv==True):\n",
    "        return x*(1-x)\n",
    "    return 1/(1+np.exp(-x))\n",
    "\n",
    "X=np.array([\n",
    "            [0,0,1],\n",
    "            [1,1,1],\n",
    "            [1,0,1],\n",
    "            [0,1,1]\n",
    "           ])\n",
    "print(X.shape)\n",
    "Y=np.array([[0,1,1,0]]).T\n",
    "\n",
    "#Y.shape\n",
    "\n",
    "np.random.seed(1)\n",
    "\n",
    "syn0=np.random.random((3,1))\n",
    "\n",
    "for iter in range(1000):\n",
    "    l0=X\n",
    "    l1=nonlin(np.dot(l0,syn0))\n",
    "    \n",
    "    l1_error=Y-l1\n",
    "    \n",
    "    l1_delta=l1_error*nonlin(l1,True)\n",
    "    syn0+=np.dot(l0.T,l1_delta)\n",
    "\n",
    "print(\"Output after training\")\n",
    "print(l1)"
   ]
  },
  {
   "cell_type": "code",
   "execution_count": 12,
   "metadata": {},
   "outputs": [
    {
     "name": "stdout",
     "output_type": "stream",
     "text": [
      "(4, 3)\n",
      "Output after training\n",
      "[[0.5]\n",
      " [0.5]\n",
      " [0.5]\n",
      " [0.5]]\n"
     ]
    }
   ],
   "source": [
    "import numpy as np\n",
    "\n",
    "def nonlin(x, deriv=False):\n",
    "    if(deriv==True):\n",
    "        return x*(1-x)\n",
    "    return 1/(1+np.exp(-x))\n",
    "\n",
    "X=np.array([\n",
    "            [0,0,1],\n",
    "            [0,1,1],\n",
    "            [1,0,1],\n",
    "            [1,1,1]\n",
    "           ])\n",
    "print(X.shape)\n",
    "Y=np.array([[0,1,1,0]]).T\n",
    "\n",
    "#Y.shape\n",
    "\n",
    "np.random.seed(1)\n",
    "\n",
    "syn0=np.random.random((3,1))\n",
    "\n",
    "for iter in range(1000):\n",
    "    l0=X\n",
    "    l1=nonlin(np.dot(l0,syn0))\n",
    "    \n",
    "    l1_error=Y-l1\n",
    "    \n",
    "    l1_delta=l1_error*nonlin(l1,True)\n",
    "    syn0+=np.dot(l0.T,l1_delta)\n",
    "\n",
    "\n",
    "print(\"Output after training\")\n",
    "print(l1)"
   ]
  },
  {
   "cell_type": "code",
   "execution_count": null,
   "metadata": {},
   "outputs": [],
   "source": []
  }
 ],
 "metadata": {
  "kernelspec": {
   "display_name": "Python 3",
   "language": "python",
   "name": "python3"
  },
  "language_info": {
   "codemirror_mode": {
    "name": "ipython",
    "version": 3
   },
   "file_extension": ".py",
   "mimetype": "text/x-python",
   "name": "python",
   "nbconvert_exporter": "python",
   "pygments_lexer": "ipython3",
   "version": "3.7.3"
  }
 },
 "nbformat": 4,
 "nbformat_minor": 2
}
