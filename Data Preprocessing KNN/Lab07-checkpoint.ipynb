{
 "cells": [
  {
   "cell_type": "code",
   "execution_count": 34,
   "metadata": {},
   "outputs": [
    {
     "name": "stdout",
     "output_type": "stream",
     "text": [
      "(150, 5)\n",
      "0.9333333333333333\n"
     ]
    }
   ],
   "source": [
    "import pandas as pd\n",
    "from sklearn.neighbors import KNeighborsClassifier\n",
    "from sklearn.model_selection import train_test_split\n",
    "from sklearn.metrics import accuracy_score\n",
    "from sklearn.metrics import confusion_matrix\n",
    "\n",
    "names=['sepal-lenght','sepal-width','petal-lenght','petal-width','class']\n",
    "dataset=pd.read_csv(\"C:\\\\Users\\\\HP\\\\Desktop\\\\iris.data\",names=names)\n",
    "\n",
    "#print(dataset)\n",
    "\n",
    "print(dataset.shape)\n",
    "\n",
    "array=dataset.values;\n",
    "#dividing in train and test\n",
    "X=array[:,0:4]\n",
    "Y=array[:,4]\n",
    "t_size=0.30\n",
    "\n",
    "X_train, X_test, Y_train, Y_test= train_test_split(X,Y, test_size=t_size)\n",
    "\n",
    "knn=KNeighborsClassifier(n_neighbors=7)\n",
    "\n",
    "knn.fit(X_train,Y_train)\n",
    "\n",
    "predictions=knn.predict(X_test)\n",
    "\n",
    "print(accuracy_score(Y_test,predictions))\n",
    "print(confusion_Matrix(Y_test,predictions))"
   ]
  },
  {
   "cell_type": "code",
   "execution_count": 36,
   "metadata": {},
   "outputs": [
    {
     "name": "stdout",
     "output_type": "stream",
     "text": [
      "[[4.         4.         4.         5.         6.         5.\n",
      "  4.16666667 4.         3.         3.         4.         1.\n",
      "  2.         7.         5.         1.         6.         4.\n",
      "  7.        ]]\n"
     ]
    },
    {
     "name": "stderr",
     "output_type": "stream",
     "text": [
      "E:\\Anaconda\\lib\\site-packages\\sklearn\\utils\\deprecation.py:58: DeprecationWarning: Class Imputer is deprecated; Imputer was deprecated in version 0.20 and will be removed in 0.22. Import impute.SimpleImputer from sklearn instead.\n",
      "  warnings.warn(msg, category=DeprecationWarning)\n"
     ]
    }
   ],
   "source": [
    "import pandas as pd\n",
    "import scipy, numpy as np\n",
    "from sklearn.preprocessing import Imputer\n",
    "\n",
    "ds=pd.read_excel(\"C:\\\\Users\\\\HP\\\\Desktop\\\\Job_Scheduling.xlsx\")\n",
    "#print(ds)\n",
    "\n",
    "x=ds.iloc[:,0:4].values #input\n",
    "y=ds.iloc[:, 4].values #output\n",
    "\n",
    "imp=Imputer(missing_values=np.nan,strategy=\"mean\")\n",
    "\n",
    "X=imp.fit_transform(x)\n",
    "Y=y.reshape(-1,1)\n",
    "Y=imp.fit_transform(Y)\n",
    "Y=Y.reshape(1,-1)\n",
    "\n",
    "print(Y)"
   ]
  },
  {
   "cell_type": "code",
   "execution_count": 25,
   "metadata": {},
   "outputs": [
    {
     "name": "stdout",
     "output_type": "stream",
     "text": [
      "(19, 4)\n"
     ]
    }
   ],
   "source": [
    "print(x.shape)"
   ]
  },
  {
   "cell_type": "code",
   "execution_count": 26,
   "metadata": {},
   "outputs": [
    {
     "name": "stdout",
     "output_type": "stream",
     "text": [
      "(19,)\n",
      "(19, 1)\n"
     ]
    }
   ],
   "source": [
    "print(y.shape)\n",
    "y=y.reshape(-1,1)\n",
    "print(y.shape)"
   ]
  },
  {
   "cell_type": "code",
   "execution_count": null,
   "metadata": {},
   "outputs": [],
   "source": []
  }
 ],
 "metadata": {
  "kernelspec": {
   "display_name": "Python 3",
   "language": "python",
   "name": "python3"
  },
  "language_info": {
   "codemirror_mode": {
    "name": "ipython",
    "version": 3
   },
   "file_extension": ".py",
   "mimetype": "text/x-python",
   "name": "python",
   "nbconvert_exporter": "python",
   "pygments_lexer": "ipython3",
   "version": "3.7.3"
  }
 },
 "nbformat": 4,
 "nbformat_minor": 2
}
