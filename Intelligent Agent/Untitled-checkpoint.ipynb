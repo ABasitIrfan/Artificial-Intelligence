{
 "cells": [
  {
   "cell_type": "code",
   "execution_count": 44,
   "metadata": {},
   "outputs": [
    {
     "name": "stdout",
     "output_type": "stream",
     "text": [
      "[[0 0 1 0 1]\n",
      " [1 0 0 1 0]\n",
      " [0 0 0 1 0]\n",
      " [1 1 1 0 1]\n",
      " [0 1 0 0 0]]\n",
      "Tile Already Cleaned\n",
      "Tile Already Cleaned\n",
      "Tile Cleaned 0\n",
      "Tile Already Cleaned\n",
      "Tile Cleaned 0\n",
      "Tile Cleaned 0\n",
      "Tile Already Cleaned\n",
      "Tile Already Cleaned\n",
      "Tile Cleaned 0\n",
      "Tile Already Cleaned\n",
      "Tile Already Cleaned\n",
      "Tile Already Cleaned\n",
      "Tile Already Cleaned\n",
      "Tile Cleaned 0\n",
      "Tile Already Cleaned\n",
      "Tile Cleaned 0\n",
      "Tile Cleaned 0\n",
      "Tile Cleaned 0\n",
      "Tile Already Cleaned\n",
      "Tile Cleaned 0\n",
      "Tile Already Cleaned\n",
      "Tile Cleaned 0\n",
      "Tile Already Cleaned\n",
      "Tile Already Cleaned\n",
      "Tile Already Cleaned\n",
      "0\n"
     ]
    }
   ],
   "source": [
    "import numpy as np\n",
    "import random \n",
    "#A = [[1,0,1,0,1], \n",
    " #   [1,1,1,1,1],\n",
    "  #  [0,0,0,0,0],\n",
    "   # [0,1,0,1,0],\n",
    "    #[0,0,0,0,0]]\n",
    "print(list_as_array)\n",
    "A = np.random.randint(0,2,size=(5,5))\n",
    "#list_as_array = np.array(A)\n",
    "list_as_array = list_as_array.astype(int)\n",
    "for i in range(len(list_as_array)):\n",
    "    for j in range(len(list_as_array)):\n",
    "        if(list_as_array[i][j]==0):\n",
    "            print(\"Tile Already Cleaned\")\n",
    "        elif(list_as_array[i][j]==1):\n",
    "            print(\"Tile Cleaned 0\")\n",
    "        else:\n",
    "            print(\"Invalid\")\n",
    "        \n",
    "print(list_as_array[0][0])"
   ]
  },
  {
   "cell_type": "code",
   "execution_count": null,
   "metadata": {},
   "outputs": [],
   "source": []
  }
 ],
 "metadata": {
  "kernelspec": {
   "display_name": "Python 3",
   "language": "python",
   "name": "python3"
  },
  "language_info": {
   "codemirror_mode": {
    "name": "ipython",
    "version": 3
   },
   "file_extension": ".py",
   "mimetype": "text/x-python",
   "name": "python",
   "nbconvert_exporter": "python",
   "pygments_lexer": "ipython3",
   "version": "3.7.3"
  }
 },
 "nbformat": 4,
 "nbformat_minor": 2
}
